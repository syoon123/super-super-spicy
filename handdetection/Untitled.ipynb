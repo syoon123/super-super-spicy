{
 "cells": [
  {
   "cell_type": "code",
   "execution_count": 1,
   "metadata": {},
   "outputs": [],
   "source": [
    "import os\n",
    "import sys\n",
    "import glob\n",
    "\n",
    "import dlib\n"
   ]
  },
  {
   "cell_type": "code",
   "execution_count": 2,
   "metadata": {},
   "outputs": [
    {
     "name": "stdout",
     "output_type": "stream",
     "text": [
      "Give the path to the examples/faces directory as the argument to this program. For example, if you are in the python_examples folder then execute this program by running:\n",
      "    ./train_object_detector.py ../examples/faces\n",
      "['/Users/vaannilaannadurai/opt/anaconda3/lib/python3.7/site-packages/ipykernel_launcher.py', '-f', '/Users/vaannilaannadurai/Library/Jupyter/runtime/kernel-e1ca14a8-5843-400e-9f63-795cd0ad779d.json']\n"
     ]
    }
   ],
   "source": [
    "if len(sys.argv) != 2:\n",
    "    print(\n",
    "        \"Give the path to the examples/faces directory as the argument to this \"\n",
    "        \"program. For example, if you are in the python_examples folder then \"\n",
    "        \"execute this program by running:\\n\"\n",
    "        \"    ./train_object_detector.py ../examples/faces\")\n",
    "    exit()\n",
    "faces_folder = sys.argv[1]\n",
    "print(sys.argv)"
   ]
  },
  {
   "cell_type": "code",
   "execution_count": 3,
   "metadata": {},
   "outputs": [],
   "source": [
    "# Now let's do the training.  The train_simple_object_detector() function has a\n",
    "# bunch of options, all of which come with reasonable default values.  The next\n",
    "# few lines goes over some of these options.\n",
    "options = dlib.simple_object_detector_training_options()\n",
    "# Since faces are left/right symmetric we can tell the trainer to train a\n",
    "# symmetric detector.  This helps it get the most value out of the training\n",
    "# data.\n",
    "options.add_left_right_image_flips = True\n",
    "# The trainer is a kind of support vector machine and therefore has the usual\n",
    "# SVM C parameter.  In general, a bigger C encourages it to fit the training\n",
    "# data better but might lead to overfitting.  You must find the best C value\n",
    "# empirically by checking how well the trained detector works on a test set of\n",
    "# images you haven't trained on.  Don't just leave the value set at 5.  Try a\n",
    "# few different C values and see what works best for your data.\n",
    "options.C = 4\n",
    "# Tell the code how many CPU cores your computer has for the fastest training.\n",
    "options.num_threads = 5\n",
    "options.be_verbose = True"
   ]
  },
  {
   "cell_type": "code",
   "execution_count": 4,
   "metadata": {},
   "outputs": [
    {
     "ename": "RuntimeError",
     "evalue": "ERROR: unable to open -f/training.xml for reading.",
     "output_type": "error",
     "traceback": [
      "\u001b[0;31m---------------------------------------------------------------------------\u001b[0m",
      "\u001b[0;31mRuntimeError\u001b[0m                              Traceback (most recent call last)",
      "\u001b[0;32m<ipython-input-4-36d3937cdb02>\u001b[0m in \u001b[0;36m<module>\u001b[0;34m\u001b[0m\n\u001b[1;32m      9\u001b[0m \u001b[0;31m# file.  But for this example, we just use the training.xml file included with\u001b[0m\u001b[0;34m\u001b[0m\u001b[0;34m\u001b[0m\u001b[0;34m\u001b[0m\u001b[0m\n\u001b[1;32m     10\u001b[0m \u001b[0;31m# dlib.\u001b[0m\u001b[0;34m\u001b[0m\u001b[0;34m\u001b[0m\u001b[0;34m\u001b[0m\u001b[0m\n\u001b[0;32m---> 11\u001b[0;31m \u001b[0mdlib\u001b[0m\u001b[0;34m.\u001b[0m\u001b[0mtrain_simple_object_detector\u001b[0m\u001b[0;34m(\u001b[0m\u001b[0mtraining_xml_path\u001b[0m\u001b[0;34m,\u001b[0m \u001b[0;34m\"detector.svm\"\u001b[0m\u001b[0;34m,\u001b[0m \u001b[0moptions\u001b[0m\u001b[0;34m)\u001b[0m\u001b[0;34m\u001b[0m\u001b[0;34m\u001b[0m\u001b[0m\n\u001b[0m\u001b[1;32m     12\u001b[0m \u001b[0;34m\u001b[0m\u001b[0m\n\u001b[1;32m     13\u001b[0m \u001b[0;34m\u001b[0m\u001b[0m\n",
      "\u001b[0;31mRuntimeError\u001b[0m: ERROR: unable to open -f/training.xml for reading."
     ]
    }
   ],
   "source": [
    "training_xml_path = os.path.join(faces_folder, \"training.xml\")\n",
    "# testing_xml_path = os.path.join(\"test\", \"testing.xml\")\n",
    "# This function does the actual training.  It will save the final detector to\n",
    "# detector.svm.  The input is an XML file that lists the images in the training\n",
    "# dataset and also contains the positions of the face boxes.  To create your\n",
    "# own XML files you can use the imglab tool which can be found in the\n",
    "# tools/imglab folder.  It is a simple graphical tool for labeling objects in\n",
    "# images with boxes.  To see how to use it read the tools/imglab/README.txt\n",
    "# file.  But for this example, we just use the training.xml file included with\n",
    "# dlib.\n",
    "dlib.train_simple_object_detector(training_xml_path, \"detector.svm\", options)\n",
    "\n",
    "\n",
    "\n",
    "# Now that we have a face detector we can test it.  The first statement tests\n",
    "# it on the training data.  It will print(the precision, recall, and then)\n",
    "# average precision.\n",
    "print(\"\")  # Print blank line to create gap from previous output\n",
    "print(\"Training accuracy: {}\".format(\n",
    "    dlib.test_simple_object_detector(training_xml_path, \"detector.svm\")))\n",
    "# However, to get an idea if it really worked without overfitting we need to\n",
    "# run it on images it wasn't trained on.  The next line does this.  Happily, we\n",
    "# see that the object detector works perfectly on the testing images.\n",
    "# print(\"Testing accuracy: {}\".format(\n",
    "#     dlib.test_simple_object_detector(testing_xml_path, \"detector.svm\")))"
   ]
  },
  {
   "cell_type": "code",
   "execution_count": null,
   "metadata": {},
   "outputs": [],
   "source": []
  }
 ],
 "metadata": {
  "kernelspec": {
   "display_name": "Python 3",
   "language": "python",
   "name": "python3"
  },
  "language_info": {
   "codemirror_mode": {
    "name": "ipython",
    "version": 3
   },
   "file_extension": ".py",
   "mimetype": "text/x-python",
   "name": "python",
   "nbconvert_exporter": "python",
   "pygments_lexer": "ipython3",
   "version": "3.7.4"
  }
 },
 "nbformat": 4,
 "nbformat_minor": 4
}
